{
  "nbformat": 4,
  "nbformat_minor": 0,
  "metadata": {
    "colab": {
      "name": "Quant Project 2.ipynb",
      "provenance": [],
      "collapsed_sections": []
    },
    "kernelspec": {
      "name": "python3",
      "display_name": "Python 3"
    },
    "language_info": {
      "name": "python"
    }
  },
  "cells": [
    {
      "cell_type": "markdown",
      "metadata": {
        "id": "Y7pCyP217tOf"
      },
      "source": [
        "# Quant Project 2. Implementing Momentum Strategy by Each Asset Class"
      ]
    },
    {
      "cell_type": "markdown",
      "metadata": {
        "id": "VPbxafgMvxMP"
      },
      "source": [
        "\n",
        "# Initial Setup\n",
        "Please install modules below to initiate project.\n",
        "> 1. Momentum module created by Quant Daddy\n",
        "> 2. pyfolio python library created by Quantopian\n"
      ]
    },
    {
      "cell_type": "code",
      "metadata": {
        "id": "SDTqnv03u9wQ"
      },
      "source": [
        "!git clone https://github.com/davidkim0523/Momentum.git --quiet\n",
        "!pip install git+https://github.com/quantopian/pyfolio --quiet"
      ],
      "execution_count": null,
      "outputs": []
    },
    {
      "cell_type": "markdown",
      "metadata": {
        "id": "qM_RNCM2xAVw"
      },
      "source": [
        "Import `CrossAssetMomentum` class and `get_price_df` function from Momentum module"
      ]
    },
    {
      "cell_type": "code",
      "metadata": {
        "id": "BaUXBN-9u_Kb"
      },
      "source": [
        "from Momentum.momentum import CrossAssetMomentum, get_price_df"
      ],
      "execution_count": null,
      "outputs": []
    },
    {
      "cell_type": "markdown",
      "metadata": {
        "id": "F3C1ll49vO7n"
      },
      "source": [
        "# Question 1. Import Dataset\n",
        "To-do Task : Import price data from Github"
      ]
    },
    {
      "cell_type": "code",
      "metadata": {
        "id": "56T7fcYxu_k_"
      },
      "source": [
        "url = 'https://raw.githubusercontent.com/davidkim0523/Momentum/main/Data.csv'\n",
        "prices = ### Insert code here"
      ],
      "execution_count": null,
      "outputs": []
    },
    {
      "cell_type": "markdown",
      "metadata": {
        "id": "ZD9eYzqvvqum"
      },
      "source": [
        "# Question 2. Divide `prices` dataframe into each asset class dataframes\n",
        "> Equity [0:9]\n",
        ">> 1. DAX Index\n",
        ">> 2. Eurostoxx 50 Index\n",
        ">> 3. FTSE 100 Index\n",
        ">> 4. S&P 500 Index\n",
        ">> 5. Nasdaq 100 Index\n",
        ">> 6. Nikkei 225 Index\n",
        ">> 7. Topix Index\n",
        ">> 8. KOSPI 200 Index\n",
        ">> 9. Hang Seng Index\n",
        "\n",
        "> Currencies [9:17]\n",
        ">> 1. EURUSD\n",
        ">> 2. GBPUSD\n",
        ">> 3. SEKUSD\n",
        ">> 4. CADUSD\n",
        ">> 5. JPYUSD\n",
        ">> 6. AUDUSD\n",
        ">> 7. NZDUSD\n",
        ">> 8. USDKRW\n",
        "\n",
        "> Commodities [17:26]\n",
        ">> 1. Brent Crude\n",
        ">> 2. WTI Crude\n",
        ">> 3. Heating Oil\n",
        ">> 4. Natural Gas\n",
        ">> 5. Gold\n",
        ">> 6. Silver\n",
        ">> 7. Copper\n",
        ">> 8. Corn\n",
        ">> 9. Soybean\n",
        "\n",
        "> Fixed Income [26:]\n",
        ">> 1. Eurodollar\n",
        ">> 2. UST 2Y\n",
        ">> 3. UST 5Y\n",
        ">> 4. UST 10Y\n",
        ">> 5. UST Long\n",
        ">> 6. Euro Schatz\n",
        ">> 7. Euro Bobl\n",
        ">> 8. Euro Bund\n",
        ">> 9. Gilt 10Y\n",
        ">> 10. JGB 10Y\n",
        ">> 11. AGB 3Y\n",
        ">> 12. AGB 10Y\n",
        "\n",
        "Hint: use pandas `iloc` method to divide by column index\n",
        "\n",
        "Syntax : `iloc[row index, column index]`\n",
        "\n",
        "Reference : [pandas.DataFrame.iloc](https://pandas.pydata.org/pandas-docs/stable/reference/api/pandas.DataFrame.iloc.html)"
      ]
    },
    {
      "cell_type": "code",
      "metadata": {
        "id": "LHDMxVplvBsh"
      },
      "source": [
        "equity = ### Insert code here\n",
        "currency = ### Insert code here\n",
        "commodity = ### Insert code here\n",
        "fixedincome = ### Insert code here"
      ],
      "execution_count": null,
      "outputs": []
    },
    {
      "cell_type": "markdown",
      "metadata": {
        "id": "wqBrmqioFO6M"
      },
      "source": [
        "# Question 3. Backtesting\n",
        "To-do Task : Run Backtest for each Asset Class without showing performance analytics\n",
        "\n",
        "Required Arguments for Implementing `CrossAssetMomentum()`\n",
        "> 1. `prices` : Price | Dataframe\n",
        "> 2. `lookback_period` : Lookback Window | Integer (Days)\n",
        "> 3. `holding_period` : Investment Horizon | Integer (Days)\n",
        "> 4. `n_selection` : Number of Selection to either Long or Short | Integer (Number of assets)\n",
        "> 5. `cost=0.001` : Transaction Cost per Trade | Float (Percentage), Optional, Default = 0.001 (10bps)\n",
        "> 6. `signal_method='dm'` : Momentum Signal Type | String (Type of momentum), Optional, Default = Dual Momentum\n",
        "> 7. `weightings='emv'` : Cross-Sectional Risk Model Type | String (Weighting Method), Optional, Default = Equal Marginal Volatility\n",
        "> 8. `long_only=False` : Indicator for using Long-only or Not | Bool, Optional, Default = False\n",
        "> 9. `show_analytics=True` : Indicator for plotting performance analytics | Bool, Optional, Default = True\n",
        "\n",
        "Relevant Attributes of `CrossAssetMomentum()`\n",
        "> 1. `returns` : Historical daily returns | Dataframe\n",
        "> 2. `holding_returns` : Historical holding returns for n days | Dataframe\n",
        "> 3. `signal` : Momentum signal vector | Dataframe\n",
        "> 4. `cs_risk_weight` : Cross-sectional weights vector | Dataframe\n",
        "> 5. `ts_risk_weight` : Time-series weights vector | Dataframe\n",
        "> 6.  `cost` : Transaction cost vector | Dataframe\n",
        "> 7. `port_rets_wo_cash` : Portfolio backtest returns without cash component | Series\n",
        "> 8. `port_rets` : Portfolio backtest returns | Series\n",
        "\n",
        "Hint : use `show_analytics=False` in argument"
      ]
    },
    {
      "cell_type": "code",
      "metadata": {
        "id": "d3IkHdwuFONB"
      },
      "source": [
        "# Paramter Setup\n",
        "lookback_period = 120\n",
        "holding_period = 20\n",
        "n_selection = 3"
      ],
      "execution_count": null,
      "outputs": []
    },
    {
      "cell_type": "code",
      "metadata": {
        "id": "XRWjOeNFQPfu"
      },
      "source": [
        "# Implementation of Momentum Strategy for each Asset Class\n",
        "# Object = CrossAssetMomentum()\n",
        "equity_mom = ### Insert code here\n",
        "currency_mom = ### Insert code here\n",
        "commodity_mom = ### Insert code here\n",
        "fixedincome_mom = ### Insert code here"
      ],
      "execution_count": null,
      "outputs": []
    },
    {
      "cell_type": "markdown",
      "metadata": {
        "id": "Hm8g-mZFRD1J"
      },
      "source": [
        "# Question 4. Visualization using Matplotlib\n",
        "To-do Task: \n",
        "\n",
        "1) Visualize Cumulative Compounded Returns for Each Asset Class\n",
        "\n",
        "2) Visualize Cross-Sectional / Time-Series Weights\n",
        "\n",
        "Hint:\n",
        "\n",
        "1) `port_rets`, `cs_risk_weight`, `ts_risk_weight` in `CrossAssetMomentum()`\n",
        "\n",
        "2) `cumprod()` from pandas dataframe\n",
        "\n",
        "3) `plt.stackplot(x_axis values(dates), transposed dataframe(weight values), labels=, colors=)` from matplotlib"
      ]
    },
    {
      "cell_type": "code",
      "metadata": {
        "id": "j2ydEmHpOIsm"
      },
      "source": [
        "import matplotlib.pyplot as plt\n",
        "import seaborn as sns"
      ],
      "execution_count": null,
      "outputs": []
    },
    {
      "cell_type": "code",
      "metadata": {
        "id": "jJAQc9qZQ5bz"
      },
      "source": [
        "# Cumulative Compounded Returns for Each Asset Class in One Plot\n",
        "plt.title('Momemtum Factor Performance')\n",
        "### Insert code here\n",
        "plt.legend()\n",
        "plt.show()"
      ],
      "execution_count": null,
      "outputs": []
    },
    {
      "cell_type": "code",
      "metadata": {
        "id": "aAgQg4SH8aoA"
      },
      "source": [
        "# 1. Equity Portfolio\n",
        "# Cross-Sectional Weights\n",
        "plt.figure(figsize=(17,7))\n",
        "plt.title('Cross-Sectional Weights')\n",
        "### Insert code here\n",
        "plt.legend()\n",
        "plt.show()\n",
        "\n",
        "# Time-Series Weights\n",
        "plt.figure(figsize=(17,7))\n",
        "plt.title('Vol-Targeting Weight')\n",
        "### Insert code here\n",
        "plt.show()"
      ],
      "execution_count": null,
      "outputs": []
    },
    {
      "cell_type": "code",
      "metadata": {
        "id": "EVQYZpeX6pAI"
      },
      "source": [
        "# 2. Currency Portfolio\n",
        "# Cross-Sectional Weights\n",
        "plt.figure(figsize=(17,7))\n",
        "plt.title('Cross-Sectional Weights')\n",
        "### Insert code here\n",
        "plt.legend()\n",
        "plt.show()\n",
        "\n",
        "# Time-Series Weights\n",
        "plt.figure(figsize=(17,7))\n",
        "plt.title('Vol-Targeting Weight')\n",
        "### Insert code here\n",
        "plt.show()"
      ],
      "execution_count": null,
      "outputs": []
    },
    {
      "cell_type": "code",
      "metadata": {
        "id": "vwOD8Fs8PZT-"
      },
      "source": [
        "# 3. Commodity Portfolio\n",
        "# Cross-Sectional Weights\n",
        "plt.figure(figsize=(17,7))\n",
        "plt.title('Cross-Sectional Weights')\n",
        "### Insert code here\n",
        "plt.legend()\n",
        "plt.show()\n",
        "\n",
        "# Time-Series Weights\n",
        "plt.figure(figsize=(17,7))\n",
        "plt.title('Vol-Targeting Weight')\n",
        "### Insert code here\n",
        "plt.show()"
      ],
      "execution_count": null,
      "outputs": []
    },
    {
      "cell_type": "code",
      "metadata": {
        "id": "DtbPFv_XPrB4"
      },
      "source": [
        "# 4. Fixed Income Portfolio\n",
        "# Cross-Sectional Weights\n",
        "plt.figure(figsize=(17,7))\n",
        "plt.title('Cross-Sectional Weights')\n",
        "### Insert code here\n",
        "plt.legend()\n",
        "plt.show()\n",
        "\n",
        "# Time-Series Weights\n",
        "plt.figure(figsize=(17,7))\n",
        "plt.title('Vol-Targeting Weight')\n",
        "### Insert code here\n",
        "plt.show()"
      ],
      "execution_count": null,
      "outputs": []
    }
  ]
}