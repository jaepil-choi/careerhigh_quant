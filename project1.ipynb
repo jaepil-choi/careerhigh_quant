{
 "cells": [
  {
   "cell_type": "markdown",
   "metadata": {},
   "source": [
    "# Project 1: 단일 자산 기본 모멘텀"
   ]
  },
  {
   "cell_type": "code",
   "execution_count": 20,
   "metadata": {},
   "outputs": [],
   "source": [
    "import numpy as np\n",
    "import pandas as pd\n",
    "\n",
    "import matplotlib as mpl\n",
    "import matplotlib.pyplot as plt\n",
    "import seaborn as sns"
   ]
  },
  {
   "cell_type": "code",
   "execution_count": 21,
   "metadata": {},
   "outputs": [],
   "source": [
    "from pathlib import Path\n",
    "\n",
    "root_path = Path('.').resolve()\n",
    "data_path = root_path / 'mentor_materials' / 'data'"
   ]
  },
  {
   "cell_type": "code",
   "execution_count": 22,
   "metadata": {},
   "outputs": [],
   "source": [
    "from mentor_materials.momentum import CrossAssetMomentum, get_price_df"
   ]
  },
  {
   "cell_type": "markdown",
   "metadata": {},
   "source": [
    "## Data import"
   ]
  },
  {
   "cell_type": "markdown",
   "metadata": {},
   "source": [
    "### Import all assets"
   ]
  },
  {
   "cell_type": "code",
   "execution_count": 23,
   "metadata": {},
   "outputs": [
    {
     "data": {
      "text/html": [
       "<div>\n",
       "<style scoped>\n",
       "    .dataframe tbody tr th:only-of-type {\n",
       "        vertical-align: middle;\n",
       "    }\n",
       "\n",
       "    .dataframe tbody tr th {\n",
       "        vertical-align: top;\n",
       "    }\n",
       "\n",
       "    .dataframe thead th {\n",
       "        text-align: right;\n",
       "    }\n",
       "</style>\n",
       "<table border=\"1\" class=\"dataframe\">\n",
       "  <thead>\n",
       "    <tr style=\"text-align: right;\">\n",
       "      <th></th>\n",
       "      <th>Date</th>\n",
       "      <th>DAX Index</th>\n",
       "      <th>Eurostoxx 50 Index</th>\n",
       "      <th>FTSE 100 Index</th>\n",
       "      <th>S&amp;P 500 Index</th>\n",
       "      <th>Nasdaq 100 Index</th>\n",
       "      <th>Nikkei 225 Index</th>\n",
       "      <th>Topix Index</th>\n",
       "      <th>KOSPI 200 Index</th>\n",
       "      <th>Hang Seng Index</th>\n",
       "      <th>...</th>\n",
       "      <th>UST 5Y</th>\n",
       "      <th>UST 10Y</th>\n",
       "      <th>UST Long</th>\n",
       "      <th>Euro Schatz</th>\n",
       "      <th>Euro Bobl</th>\n",
       "      <th>Euro Bund</th>\n",
       "      <th>Gilt 10Y</th>\n",
       "      <th>JGB 10Y</th>\n",
       "      <th>AGB 3Y</th>\n",
       "      <th>AGB 10Y</th>\n",
       "    </tr>\n",
       "  </thead>\n",
       "  <tbody>\n",
       "    <tr>\n",
       "      <th>0</th>\n",
       "      <td>2000-01-03</td>\n",
       "      <td>8768.903220</td>\n",
       "      <td>2443.196385</td>\n",
       "      <td>4663.410938</td>\n",
       "      <td>1110.469607</td>\n",
       "      <td>3472.256961</td>\n",
       "      <td>14612.63447</td>\n",
       "      <td>1183.492979</td>\n",
       "      <td>125.774501</td>\n",
       "      <td>10900.421630</td>\n",
       "      <td>...</td>\n",
       "      <td>67.205578</td>\n",
       "      <td>56.429022</td>\n",
       "      <td>54.465692</td>\n",
       "      <td>94.644953</td>\n",
       "      <td>80.314443</td>\n",
       "      <td>70.939571</td>\n",
       "      <td>66.326959</td>\n",
       "      <td>101.388587</td>\n",
       "      <td>91.795922</td>\n",
       "      <td>91.597163</td>\n",
       "    </tr>\n",
       "    <tr>\n",
       "      <th>1</th>\n",
       "      <td>2000-01-04</td>\n",
       "      <td>8544.026504</td>\n",
       "      <td>2347.719768</td>\n",
       "      <td>4483.277751</td>\n",
       "      <td>1068.829363</td>\n",
       "      <td>3213.045685</td>\n",
       "      <td>14791.12124</td>\n",
       "      <td>1188.332027</td>\n",
       "      <td>127.696511</td>\n",
       "      <td>10671.302490</td>\n",
       "      <td>...</td>\n",
       "      <td>67.431537</td>\n",
       "      <td>67.431537</td>\n",
       "      <td>54.920204</td>\n",
       "      <td>54.920204</td>\n",
       "      <td>94.663425</td>\n",
       "      <td>80.322243</td>\n",
       "      <td>70.829715</td>\n",
       "      <td>65.427993</td>\n",
       "      <td>91.628770</td>\n",
       "      <td>91.439483</td>\n",
       "    </tr>\n",
       "    <tr>\n",
       "      <th>2</th>\n",
       "      <td>2000-01-05</td>\n",
       "      <td>8417.734710</td>\n",
       "      <td>2292.443832</td>\n",
       "      <td>4391.038865</td>\n",
       "      <td>1070.154279</td>\n",
       "      <td>3172.402802</td>\n",
       "      <td>14251.78078</td>\n",
       "      <td>1131.646032</td>\n",
       "      <td>118.414606</td>\n",
       "      <td>9827.014147</td>\n",
       "      <td>...</td>\n",
       "      <td>67.173303</td>\n",
       "      <td>67.173303</td>\n",
       "      <td>54.352064</td>\n",
       "      <td>54.352064</td>\n",
       "      <td>94.663425</td>\n",
       "      <td>80.314443</td>\n",
       "      <td>70.644332</td>\n",
       "      <td>65.011255</td>\n",
       "      <td>91.717262</td>\n",
       "      <td>91.557743</td>\n",
       "    </tr>\n",
       "    <tr>\n",
       "      <th>3</th>\n",
       "      <td>2000-01-06</td>\n",
       "      <td>8383.584378</td>\n",
       "      <td>2278.876102</td>\n",
       "      <td>4336.564450</td>\n",
       "      <td>1062.961874</td>\n",
       "      <td>2991.767767</td>\n",
       "      <td>13875.40650</td>\n",
       "      <td>1088.785889</td>\n",
       "      <td>113.633019</td>\n",
       "      <td>9393.884811</td>\n",
       "      <td>...</td>\n",
       "      <td>67.291657</td>\n",
       "      <td>67.291657</td>\n",
       "      <td>54.787638</td>\n",
       "      <td>54.787638</td>\n",
       "      <td>94.672662</td>\n",
       "      <td>80.314443</td>\n",
       "      <td>70.548208</td>\n",
       "      <td>64.939814</td>\n",
       "      <td>91.628770</td>\n",
       "      <td>91.459193</td>\n",
       "    </tr>\n",
       "    <tr>\n",
       "      <th>4</th>\n",
       "      <td>2000-01-07</td>\n",
       "      <td>8801.764861</td>\n",
       "      <td>2353.749870</td>\n",
       "      <td>4365.973950</td>\n",
       "      <td>1105.169939</td>\n",
       "      <td>3217.109974</td>\n",
       "      <td>14077.17415</td>\n",
       "      <td>1103.994327</td>\n",
       "      <td>114.383072</td>\n",
       "      <td>9566.508822</td>\n",
       "      <td>...</td>\n",
       "      <td>67.442294</td>\n",
       "      <td>67.442294</td>\n",
       "      <td>55.109584</td>\n",
       "      <td>55.109584</td>\n",
       "      <td>94.866625</td>\n",
       "      <td>80.696670</td>\n",
       "      <td>71.124953</td>\n",
       "      <td>65.231531</td>\n",
       "      <td>91.628770</td>\n",
       "      <td>91.478903</td>\n",
       "    </tr>\n",
       "    <tr>\n",
       "      <th>...</th>\n",
       "      <td>...</td>\n",
       "      <td>...</td>\n",
       "      <td>...</td>\n",
       "      <td>...</td>\n",
       "      <td>...</td>\n",
       "      <td>...</td>\n",
       "      <td>...</td>\n",
       "      <td>...</td>\n",
       "      <td>...</td>\n",
       "      <td>...</td>\n",
       "      <td>...</td>\n",
       "      <td>...</td>\n",
       "      <td>...</td>\n",
       "      <td>...</td>\n",
       "      <td>...</td>\n",
       "      <td>...</td>\n",
       "      <td>...</td>\n",
       "      <td>...</td>\n",
       "      <td>...</td>\n",
       "      <td>...</td>\n",
       "      <td>...</td>\n",
       "    </tr>\n",
       "    <tr>\n",
       "      <th>5585</th>\n",
       "      <td>2021-05-31</td>\n",
       "      <td>15414.000000</td>\n",
       "      <td>4035.000000</td>\n",
       "      <td>7023.500000</td>\n",
       "      <td>4202.400000</td>\n",
       "      <td>13686.500000</td>\n",
       "      <td>28965.00000</td>\n",
       "      <td>1928.500000</td>\n",
       "      <td>427.700000</td>\n",
       "      <td>28958.000000</td>\n",
       "      <td>...</td>\n",
       "      <td>124.414100</td>\n",
       "      <td>124.414100</td>\n",
       "      <td>158.125000</td>\n",
       "      <td>158.125000</td>\n",
       "      <td>112.045000</td>\n",
       "      <td>134.720000</td>\n",
       "      <td>169.940000</td>\n",
       "      <td>128.270000</td>\n",
       "      <td>99.785000</td>\n",
       "      <td>98.350000</td>\n",
       "    </tr>\n",
       "    <tr>\n",
       "      <th>5586</th>\n",
       "      <td>2021-06-01</td>\n",
       "      <td>15567.000000</td>\n",
       "      <td>4070.000000</td>\n",
       "      <td>7078.000000</td>\n",
       "      <td>4198.600000</td>\n",
       "      <td>13648.750000</td>\n",
       "      <td>28760.00000</td>\n",
       "      <td>1920.000000</td>\n",
       "      <td>430.100000</td>\n",
       "      <td>29350.000000</td>\n",
       "      <td>...</td>\n",
       "      <td>124.367200</td>\n",
       "      <td>124.367200</td>\n",
       "      <td>157.718800</td>\n",
       "      <td>157.718800</td>\n",
       "      <td>112.040000</td>\n",
       "      <td>134.710000</td>\n",
       "      <td>169.830000</td>\n",
       "      <td>127.890000</td>\n",
       "      <td>99.800000</td>\n",
       "      <td>98.370000</td>\n",
       "    </tr>\n",
       "    <tr>\n",
       "      <th>5587</th>\n",
       "      <td>2021-06-02</td>\n",
       "      <td>15583.000000</td>\n",
       "      <td>4084.000000</td>\n",
       "      <td>7095.000000</td>\n",
       "      <td>4206.200000</td>\n",
       "      <td>13673.750000</td>\n",
       "      <td>28900.00000</td>\n",
       "      <td>1940.500000</td>\n",
       "      <td>429.500000</td>\n",
       "      <td>29144.000000</td>\n",
       "      <td>...</td>\n",
       "      <td>124.421900</td>\n",
       "      <td>124.421900</td>\n",
       "      <td>158.093800</td>\n",
       "      <td>158.093800</td>\n",
       "      <td>112.050000</td>\n",
       "      <td>134.820000</td>\n",
       "      <td>170.150000</td>\n",
       "      <td>128.200000</td>\n",
       "      <td>99.800000</td>\n",
       "      <td>98.380000</td>\n",
       "    </tr>\n",
       "    <tr>\n",
       "      <th>5588</th>\n",
       "      <td>2021-06-03</td>\n",
       "      <td>15651.000000</td>\n",
       "      <td>4086.000000</td>\n",
       "      <td>7068.500000</td>\n",
       "      <td>4191.300000</td>\n",
       "      <td>13529.250000</td>\n",
       "      <td>29030.00000</td>\n",
       "      <td>1959.000000</td>\n",
       "      <td>433.450000</td>\n",
       "      <td>28858.000000</td>\n",
       "      <td>...</td>\n",
       "      <td>124.203100</td>\n",
       "      <td>124.203100</td>\n",
       "      <td>157.656300</td>\n",
       "      <td>157.656300</td>\n",
       "      <td>112.045000</td>\n",
       "      <td>134.800000</td>\n",
       "      <td>169.940000</td>\n",
       "      <td>127.890000</td>\n",
       "      <td>99.805000</td>\n",
       "      <td>98.395000</td>\n",
       "    </tr>\n",
       "    <tr>\n",
       "      <th>5589</th>\n",
       "      <td>2021-06-04</td>\n",
       "      <td>15641.000000</td>\n",
       "      <td>4080.000000</td>\n",
       "      <td>7062.500000</td>\n",
       "      <td>4192.500000</td>\n",
       "      <td>13519.750000</td>\n",
       "      <td>28950.00000</td>\n",
       "      <td>1954.000000</td>\n",
       "      <td>432.149994</td>\n",
       "      <td>28792.000000</td>\n",
       "      <td>...</td>\n",
       "      <td>124.218750</td>\n",
       "      <td>124.218750</td>\n",
       "      <td>157.656250</td>\n",
       "      <td>157.656250</td>\n",
       "      <td>112.050003</td>\n",
       "      <td>134.800003</td>\n",
       "      <td>169.869995</td>\n",
       "      <td>127.890000</td>\n",
       "      <td>99.785004</td>\n",
       "      <td>98.375000</td>\n",
       "    </tr>\n",
       "  </tbody>\n",
       "</table>\n",
       "<p>5590 rows × 39 columns</p>\n",
       "</div>"
      ],
      "text/plain": [
       "            Date     DAX Index  Eurostoxx 50 Index  FTSE 100 Index  \\\n",
       "0     2000-01-03   8768.903220         2443.196385     4663.410938   \n",
       "1     2000-01-04   8544.026504         2347.719768     4483.277751   \n",
       "2     2000-01-05   8417.734710         2292.443832     4391.038865   \n",
       "3     2000-01-06   8383.584378         2278.876102     4336.564450   \n",
       "4     2000-01-07   8801.764861         2353.749870     4365.973950   \n",
       "...          ...           ...                 ...             ...   \n",
       "5585  2021-05-31  15414.000000         4035.000000     7023.500000   \n",
       "5586  2021-06-01  15567.000000         4070.000000     7078.000000   \n",
       "5587  2021-06-02  15583.000000         4084.000000     7095.000000   \n",
       "5588  2021-06-03  15651.000000         4086.000000     7068.500000   \n",
       "5589  2021-06-04  15641.000000         4080.000000     7062.500000   \n",
       "\n",
       "      S&P 500 Index  Nasdaq 100 Index  Nikkei 225 Index  Topix Index  \\\n",
       "0       1110.469607       3472.256961       14612.63447  1183.492979   \n",
       "1       1068.829363       3213.045685       14791.12124  1188.332027   \n",
       "2       1070.154279       3172.402802       14251.78078  1131.646032   \n",
       "3       1062.961874       2991.767767       13875.40650  1088.785889   \n",
       "4       1105.169939       3217.109974       14077.17415  1103.994327   \n",
       "...             ...               ...               ...          ...   \n",
       "5585    4202.400000      13686.500000       28965.00000  1928.500000   \n",
       "5586    4198.600000      13648.750000       28760.00000  1920.000000   \n",
       "5587    4206.200000      13673.750000       28900.00000  1940.500000   \n",
       "5588    4191.300000      13529.250000       29030.00000  1959.000000   \n",
       "5589    4192.500000      13519.750000       28950.00000  1954.000000   \n",
       "\n",
       "      KOSPI 200 Index  Hang Seng Index  ...      UST 5Y     UST 10Y  \\\n",
       "0          125.774501     10900.421630  ...   67.205578   56.429022   \n",
       "1          127.696511     10671.302490  ...   67.431537   67.431537   \n",
       "2          118.414606      9827.014147  ...   67.173303   67.173303   \n",
       "3          113.633019      9393.884811  ...   67.291657   67.291657   \n",
       "4          114.383072      9566.508822  ...   67.442294   67.442294   \n",
       "...               ...              ...  ...         ...         ...   \n",
       "5585       427.700000     28958.000000  ...  124.414100  124.414100   \n",
       "5586       430.100000     29350.000000  ...  124.367200  124.367200   \n",
       "5587       429.500000     29144.000000  ...  124.421900  124.421900   \n",
       "5588       433.450000     28858.000000  ...  124.203100  124.203100   \n",
       "5589       432.149994     28792.000000  ...  124.218750  124.218750   \n",
       "\n",
       "        UST Long  Euro Schatz   Euro Bobl   Euro Bund    Gilt 10Y     JGB 10Y  \\\n",
       "0      54.465692    94.644953   80.314443   70.939571   66.326959  101.388587   \n",
       "1      54.920204    54.920204   94.663425   80.322243   70.829715   65.427993   \n",
       "2      54.352064    54.352064   94.663425   80.314443   70.644332   65.011255   \n",
       "3      54.787638    54.787638   94.672662   80.314443   70.548208   64.939814   \n",
       "4      55.109584    55.109584   94.866625   80.696670   71.124953   65.231531   \n",
       "...          ...          ...         ...         ...         ...         ...   \n",
       "5585  158.125000   158.125000  112.045000  134.720000  169.940000  128.270000   \n",
       "5586  157.718800   157.718800  112.040000  134.710000  169.830000  127.890000   \n",
       "5587  158.093800   158.093800  112.050000  134.820000  170.150000  128.200000   \n",
       "5588  157.656300   157.656300  112.045000  134.800000  169.940000  127.890000   \n",
       "5589  157.656250   157.656250  112.050003  134.800003  169.869995  127.890000   \n",
       "\n",
       "         AGB 3Y    AGB 10Y  \n",
       "0     91.795922  91.597163  \n",
       "1     91.628770  91.439483  \n",
       "2     91.717262  91.557743  \n",
       "3     91.628770  91.459193  \n",
       "4     91.628770  91.478903  \n",
       "...         ...        ...  \n",
       "5585  99.785000  98.350000  \n",
       "5586  99.800000  98.370000  \n",
       "5587  99.800000  98.380000  \n",
       "5588  99.805000  98.395000  \n",
       "5589  99.785004  98.375000  \n",
       "\n",
       "[5590 rows x 39 columns]"
      ]
     },
     "execution_count": 23,
     "metadata": {},
     "output_type": "execute_result"
    }
   ],
   "source": [
    "allAssets_df = pd.read_csv(data_path / 'Data.csv')\n",
    "allAssets_df"
   ]
  },
  {
   "cell_type": "code",
   "execution_count": 24,
   "metadata": {},
   "outputs": [],
   "source": [
    "# Convert str type date to pd.datetime64\n",
    "# allAssets_df.loc[:, \"Date\"] = pd.to_datetime(allAssets_df.loc[:, \"Date\"], format=\"%Y-%m-%d\")"
   ]
  },
  {
   "cell_type": "code",
   "execution_count": 25,
   "metadata": {},
   "outputs": [],
   "source": [
    "# allAssets_df.set_index(\"Date\", drop=False, inplace=True)"
   ]
  },
  {
   "cell_type": "code",
   "execution_count": 26,
   "metadata": {},
   "outputs": [
    {
     "data": {
      "text/plain": [
       "Index(['Date', 'DAX Index', 'Eurostoxx 50 Index', 'FTSE 100 Index',\n",
       "       'S&P 500 Index', 'Nasdaq 100 Index', 'Nikkei 225 Index', 'Topix Index',\n",
       "       'KOSPI 200 Index', 'Hang Seng Index', 'EURUSD', 'GBPUSD', 'SEKUSD',\n",
       "       'CADUSD', 'JPYUSD', 'AUDUSD', 'NZDUSD', 'USDKRW', 'Brent Crude',\n",
       "       'WTI Crude', 'Heating Oil', 'Natural Gas', 'Gold', 'Silver', 'Copper',\n",
       "       'Corn', 'Soybean', 'Eurodollar', 'UST 2Y', 'UST 5Y', 'UST 10Y',\n",
       "       'UST Long', 'Euro Schatz', 'Euro Bobl', 'Euro Bund', 'Gilt 10Y',\n",
       "       'JGB 10Y', 'AGB 3Y', 'AGB 10Y'],\n",
       "      dtype='object')"
      ]
     },
     "execution_count": 26,
     "metadata": {},
     "output_type": "execute_result"
    }
   ],
   "source": [
    "allAssets_df.columns"
   ]
  },
  {
   "cell_type": "code",
   "execution_count": 27,
   "metadata": {},
   "outputs": [
    {
     "name": "stdout",
     "output_type": "stream",
     "text": [
      "<class 'pandas.core.frame.DataFrame'>\n",
      "RangeIndex: 5590 entries, 0 to 5589\n",
      "Data columns (total 39 columns):\n",
      " #   Column              Non-Null Count  Dtype  \n",
      "---  ------              --------------  -----  \n",
      " 0   Date                5590 non-null   object \n",
      " 1   DAX Index           5590 non-null   float64\n",
      " 2   Eurostoxx 50 Index  5590 non-null   float64\n",
      " 3   FTSE 100 Index      5590 non-null   float64\n",
      " 4   S&P 500 Index       5590 non-null   float64\n",
      " 5   Nasdaq 100 Index    5590 non-null   float64\n",
      " 6   Nikkei 225 Index    5590 non-null   float64\n",
      " 7   Topix Index         5590 non-null   float64\n",
      " 8   KOSPI 200 Index     5590 non-null   float64\n",
      " 9   Hang Seng Index     5590 non-null   float64\n",
      " 10  EURUSD              5590 non-null   float64\n",
      " 11  GBPUSD              5590 non-null   float64\n",
      " 12  SEKUSD              5590 non-null   float64\n",
      " 13  CADUSD              5590 non-null   float64\n",
      " 14  JPYUSD              5590 non-null   float64\n",
      " 15  AUDUSD              5590 non-null   float64\n",
      " 16  NZDUSD              5590 non-null   float64\n",
      " 17  USDKRW              5590 non-null   float64\n",
      " 18  Brent Crude         5590 non-null   float64\n",
      " 19  WTI Crude           5590 non-null   float64\n",
      " 20  Heating Oil         5590 non-null   float64\n",
      " 21  Natural Gas         5590 non-null   float64\n",
      " 22  Gold                5590 non-null   float64\n",
      " 23  Silver              5590 non-null   float64\n",
      " 24  Copper              5590 non-null   float64\n",
      " 25  Corn                5590 non-null   float64\n",
      " 26  Soybean             5590 non-null   float64\n",
      " 27  Eurodollar          5590 non-null   float64\n",
      " 28  UST 2Y              5590 non-null   float64\n",
      " 29  UST 5Y              5590 non-null   float64\n",
      " 30  UST 10Y             5590 non-null   float64\n",
      " 31  UST Long            5590 non-null   float64\n",
      " 32  Euro Schatz         5590 non-null   float64\n",
      " 33  Euro Bobl           5590 non-null   float64\n",
      " 34  Euro Bund           5590 non-null   float64\n",
      " 35  Gilt 10Y            5590 non-null   float64\n",
      " 36  JGB 10Y             5590 non-null   float64\n",
      " 37  AGB 3Y              5590 non-null   float64\n",
      " 38  AGB 10Y             5590 non-null   float64\n",
      "dtypes: float64(38), object(1)\n",
      "memory usage: 1.7+ MB\n"
     ]
    }
   ],
   "source": [
    "allAssets_df.info()"
   ]
  },
  {
   "cell_type": "markdown",
   "metadata": {},
   "source": [
    "### Divide dataframe into eash asset class"
   ]
  },
  {
   "cell_type": "code",
   "execution_count": 28,
   "metadata": {},
   "outputs": [],
   "source": [
    "equity_df = allAssets_df.iloc[:, 0:9].copy()"
   ]
  },
  {
   "cell_type": "code",
   "execution_count": 29,
   "metadata": {},
   "outputs": [
    {
     "data": {
      "text/plain": [
       "Index(['Date', 'DAX Index', 'Eurostoxx 50 Index', 'FTSE 100 Index',\n",
       "       'S&P 500 Index', 'Nasdaq 100 Index', 'Nikkei 225 Index', 'Topix Index',\n",
       "       'KOSPI 200 Index'],\n",
       "      dtype='object')"
      ]
     },
     "execution_count": 29,
     "metadata": {},
     "output_type": "execute_result"
    }
   ],
   "source": [
    "equity_df.columns"
   ]
  },
  {
   "cell_type": "code",
   "execution_count": 30,
   "metadata": {},
   "outputs": [],
   "source": [
    "currency_df = allAssets_df.iloc[:, 9:17].copy()"
   ]
  },
  {
   "cell_type": "code",
   "execution_count": 31,
   "metadata": {},
   "outputs": [
    {
     "data": {
      "text/plain": [
       "Index(['Hang Seng Index', 'EURUSD', 'GBPUSD', 'SEKUSD', 'CADUSD', 'JPYUSD',\n",
       "       'AUDUSD', 'NZDUSD'],\n",
       "      dtype='object')"
      ]
     },
     "execution_count": 31,
     "metadata": {},
     "output_type": "execute_result"
    }
   ],
   "source": [
    "currency_df.columns"
   ]
  },
  {
   "cell_type": "code",
   "execution_count": 32,
   "metadata": {},
   "outputs": [],
   "source": [
    "commodity_df = allAssets_df.iloc[:, 17:26].copy()"
   ]
  },
  {
   "cell_type": "code",
   "execution_count": 33,
   "metadata": {},
   "outputs": [
    {
     "data": {
      "text/plain": [
       "Index(['USDKRW', 'Brent Crude', 'WTI Crude', 'Heating Oil', 'Natural Gas',\n",
       "       'Gold', 'Silver', 'Copper', 'Corn'],\n",
       "      dtype='object')"
      ]
     },
     "execution_count": 33,
     "metadata": {},
     "output_type": "execute_result"
    }
   ],
   "source": [
    "commodity_df.columns"
   ]
  },
  {
   "cell_type": "code",
   "execution_count": 34,
   "metadata": {},
   "outputs": [],
   "source": [
    "fixed_df = allAssets_df.iloc[:, 26:].copy()"
   ]
  },
  {
   "cell_type": "code",
   "execution_count": 35,
   "metadata": {},
   "outputs": [
    {
     "data": {
      "text/plain": [
       "Index(['Soybean', 'Eurodollar', 'UST 2Y', 'UST 5Y', 'UST 10Y', 'UST Long',\n",
       "       'Euro Schatz', 'Euro Bobl', 'Euro Bund', 'Gilt 10Y', 'JGB 10Y',\n",
       "       'AGB 3Y', 'AGB 10Y'],\n",
       "      dtype='object')"
      ]
     },
     "execution_count": 35,
     "metadata": {},
     "output_type": "execute_result"
    }
   ],
   "source": [
    "fixed_df.columns"
   ]
  },
  {
   "cell_type": "markdown",
   "metadata": {},
   "source": [
    "## Sample code run\n",
    "\n",
    "주어진 `CrossAssetMomentum()` 사용"
   ]
  },
  {
   "cell_type": "code",
   "execution_count": 36,
   "metadata": {
    "id": "d3IkHdwuFONB"
   },
   "outputs": [],
   "source": [
    "# Paramter Setup\n",
    "lookback_period = 120\n",
    "holding_period = 20\n",
    "n_selection = 3"
   ]
  },
  {
   "cell_type": "code",
   "execution_count": 37,
   "metadata": {},
   "outputs": [
    {
     "ename": "TypeError",
     "evalue": "unsupported operand type(s) for /: 'str' and 'str'",
     "output_type": "error",
     "traceback": [
      "\u001b[1;31m---------------------------------------------------------------------------\u001b[0m",
      "\u001b[1;31mTypeError\u001b[0m                                 Traceback (most recent call last)",
      "File \u001b[1;32me:\\VSCodeProjects\\careerhigh_quant\\.venv\\lib\\site-packages\\pandas\\core\\ops\\array_ops.py:166\u001b[0m, in \u001b[0;36m_na_arithmetic_op\u001b[1;34m(left, right, op, is_cmp)\u001b[0m\n\u001b[0;32m    165\u001b[0m \u001b[38;5;28;01mtry\u001b[39;00m:\n\u001b[1;32m--> 166\u001b[0m     result \u001b[38;5;241m=\u001b[39m \u001b[43mfunc\u001b[49m\u001b[43m(\u001b[49m\u001b[43mleft\u001b[49m\u001b[43m,\u001b[49m\u001b[43m \u001b[49m\u001b[43mright\u001b[49m\u001b[43m)\u001b[49m\n\u001b[0;32m    167\u001b[0m \u001b[38;5;28;01mexcept\u001b[39;00m \u001b[38;5;167;01mTypeError\u001b[39;00m:\n",
      "File \u001b[1;32me:\\VSCodeProjects\\careerhigh_quant\\.venv\\lib\\site-packages\\pandas\\core\\computation\\expressions.py:239\u001b[0m, in \u001b[0;36mevaluate\u001b[1;34m(op, a, b, use_numexpr)\u001b[0m\n\u001b[0;32m    237\u001b[0m     \u001b[38;5;28;01mif\u001b[39;00m use_numexpr:\n\u001b[0;32m    238\u001b[0m         \u001b[38;5;66;03m# error: \"None\" not callable\u001b[39;00m\n\u001b[1;32m--> 239\u001b[0m         \u001b[38;5;28;01mreturn\u001b[39;00m \u001b[43m_evaluate\u001b[49m\u001b[43m(\u001b[49m\u001b[43mop\u001b[49m\u001b[43m,\u001b[49m\u001b[43m \u001b[49m\u001b[43mop_str\u001b[49m\u001b[43m,\u001b[49m\u001b[43m \u001b[49m\u001b[43ma\u001b[49m\u001b[43m,\u001b[49m\u001b[43m \u001b[49m\u001b[43mb\u001b[49m\u001b[43m)\u001b[49m  \u001b[38;5;66;03m# type: ignore[misc]\u001b[39;00m\n\u001b[0;32m    240\u001b[0m \u001b[38;5;28;01mreturn\u001b[39;00m _evaluate_standard(op, op_str, a, b)\n",
      "File \u001b[1;32me:\\VSCodeProjects\\careerhigh_quant\\.venv\\lib\\site-packages\\pandas\\core\\computation\\expressions.py:69\u001b[0m, in \u001b[0;36m_evaluate_standard\u001b[1;34m(op, op_str, a, b)\u001b[0m\n\u001b[0;32m     68\u001b[0m     _store_test_result(\u001b[38;5;28;01mFalse\u001b[39;00m)\n\u001b[1;32m---> 69\u001b[0m \u001b[38;5;28;01mreturn\u001b[39;00m \u001b[43mop\u001b[49m\u001b[43m(\u001b[49m\u001b[43ma\u001b[49m\u001b[43m,\u001b[49m\u001b[43m \u001b[49m\u001b[43mb\u001b[49m\u001b[43m)\u001b[49m\n",
      "\u001b[1;31mTypeError\u001b[0m: unsupported operand type(s) for /: 'str' and 'float'",
      "\nDuring handling of the above exception, another exception occurred:\n",
      "\u001b[1;31mTypeError\u001b[0m                                 Traceback (most recent call last)",
      "Input \u001b[1;32mIn [37]\u001b[0m, in \u001b[0;36m<module>\u001b[1;34m\u001b[0m\n\u001b[0;32m      1\u001b[0m \u001b[38;5;66;03m# selected_df = equity_df\u001b[39;00m\n\u001b[1;32m----> 3\u001b[0m equity_CAM \u001b[38;5;241m=\u001b[39m \u001b[43mCrossAssetMomentum\u001b[49m\u001b[43m(\u001b[49m\n\u001b[0;32m      4\u001b[0m \u001b[43m    \u001b[49m\u001b[43mprices\u001b[49m\u001b[38;5;241;43m=\u001b[39;49m\u001b[43mequity_df\u001b[49m\u001b[43m,\u001b[49m\n\u001b[0;32m      5\u001b[0m \u001b[43m    \u001b[49m\u001b[43mlookback_period\u001b[49m\u001b[38;5;241;43m=\u001b[39;49m\u001b[43mlookback_period\u001b[49m\u001b[43m,\u001b[49m\n\u001b[0;32m      6\u001b[0m \u001b[43m    \u001b[49m\u001b[43mholding_period\u001b[49m\u001b[38;5;241;43m=\u001b[39;49m\u001b[43mholding_period\u001b[49m\u001b[43m,\u001b[49m\n\u001b[0;32m      7\u001b[0m \u001b[43m    \u001b[49m\u001b[43mn_selection\u001b[49m\u001b[38;5;241;43m=\u001b[39;49m\u001b[43mn_selection\u001b[49m\u001b[43m,\u001b[49m\n\u001b[0;32m      8\u001b[0m \u001b[43m)\u001b[49m\n",
      "File \u001b[1;32me:\\VSCodeProjects\\careerhigh_quant\\mentor_materials\\momentum.py:20\u001b[0m, in \u001b[0;36mCrossAssetMomentum.__init__\u001b[1;34m(self, prices, lookback_period, holding_period, n_selection, cost, signal_method, weightings, long_only, show_analytics)\u001b[0m\n\u001b[0;32m      6\u001b[0m \u001b[38;5;28;01mdef\u001b[39;00m \u001b[38;5;21m__init__\u001b[39m(\n\u001b[0;32m      7\u001b[0m     \u001b[38;5;28mself\u001b[39m, \n\u001b[0;32m      8\u001b[0m     prices, \n\u001b[1;32m   (...)\u001b[0m\n\u001b[0;32m     18\u001b[0m \n\u001b[0;32m     19\u001b[0m     \u001b[38;5;66;03m# price dataframe을 return으로 바꿔준다. = 일별수익률\u001b[39;00m\n\u001b[1;32m---> 20\u001b[0m     \u001b[38;5;28mself\u001b[39m\u001b[38;5;241m.\u001b[39mreturns \u001b[38;5;241m=\u001b[39m \u001b[38;5;28;43mself\u001b[39;49m\u001b[38;5;241;43m.\u001b[39;49m\u001b[43mget_returns\u001b[49m\u001b[43m(\u001b[49m\u001b[43mprices\u001b[49m\u001b[43m)\u001b[49m\n\u001b[0;32m     21\u001b[0m     \u001b[38;5;66;03m# 그리고 holding_period를 감안해 shift를 걸어준다. = holding_period 만큼의 수익률\u001b[39;00m\n\u001b[0;32m     22\u001b[0m     \u001b[38;5;28mself\u001b[39m\u001b[38;5;241m.\u001b[39mholding_returns \u001b[38;5;241m=\u001b[39m \u001b[38;5;28mself\u001b[39m\u001b[38;5;241m.\u001b[39mget_holding_returns(prices, holding_period)\n",
      "File \u001b[1;32me:\\VSCodeProjects\\careerhigh_quant\\mentor_materials\\momentum.py:72\u001b[0m, in \u001b[0;36mCrossAssetMomentum.get_returns\u001b[1;34m(self, prices)\u001b[0m\n\u001b[0;32m     59\u001b[0m \u001b[38;5;28;01mdef\u001b[39;00m \u001b[38;5;21mget_returns\u001b[39m(\u001b[38;5;28mself\u001b[39m, prices):\n\u001b[0;32m     60\u001b[0m     \u001b[38;5;124;03m\"\"\"Returns the historical daily returns\u001b[39;00m\n\u001b[0;32m     61\u001b[0m \u001b[38;5;124;03m    \u001b[39;00m\n\u001b[0;32m     62\u001b[0m \u001b[38;5;124;03m    Paramters\u001b[39;00m\n\u001b[1;32m   (...)\u001b[0m\n\u001b[0;32m     70\u001b[0m \u001b[38;5;124;03m        Historical daily returns\u001b[39;00m\n\u001b[0;32m     71\u001b[0m \u001b[38;5;124;03m    \"\"\"\u001b[39;00m\n\u001b[1;32m---> 72\u001b[0m     returns \u001b[38;5;241m=\u001b[39m \u001b[43mprices\u001b[49m\u001b[38;5;241;43m.\u001b[39;49m\u001b[43mpct_change\u001b[49m\u001b[43m(\u001b[49m\u001b[43m)\u001b[49m\u001b[38;5;241m.\u001b[39mfillna(\u001b[38;5;241m0\u001b[39m)\n\u001b[0;32m     73\u001b[0m     \u001b[38;5;28;01mreturn\u001b[39;00m returns\n",
      "File \u001b[1;32me:\\VSCodeProjects\\careerhigh_quant\\.venv\\lib\\site-packages\\pandas\\core\\generic.py:10165\u001b[0m, in \u001b[0;36mNDFrame.pct_change\u001b[1;34m(self, periods, fill_method, limit, freq, **kwargs)\u001b[0m\n\u001b[0;32m  10163\u001b[0m shifted \u001b[38;5;241m=\u001b[39m data\u001b[38;5;241m.\u001b[39mshift(periods\u001b[38;5;241m=\u001b[39mperiods, freq\u001b[38;5;241m=\u001b[39mfreq, axis\u001b[38;5;241m=\u001b[39maxis, \u001b[38;5;241m*\u001b[39m\u001b[38;5;241m*\u001b[39mkwargs)\n\u001b[0;32m  10164\u001b[0m \u001b[38;5;66;03m# Unsupported left operand type for / (\"FrameOrSeries\")\u001b[39;00m\n\u001b[1;32m> 10165\u001b[0m rs \u001b[38;5;241m=\u001b[39m \u001b[43mdata\u001b[49m\u001b[43m \u001b[49m\u001b[38;5;241;43m/\u001b[39;49m\u001b[43m \u001b[49m\u001b[43mshifted\u001b[49m \u001b[38;5;241m-\u001b[39m \u001b[38;5;241m1\u001b[39m  \u001b[38;5;66;03m# type: ignore[operator]\u001b[39;00m\n\u001b[0;32m  10166\u001b[0m \u001b[38;5;28;01mif\u001b[39;00m freq \u001b[38;5;129;01mis\u001b[39;00m \u001b[38;5;129;01mnot\u001b[39;00m \u001b[38;5;28;01mNone\u001b[39;00m:\n\u001b[0;32m  10167\u001b[0m     \u001b[38;5;66;03m# Shift method is implemented differently when freq is not None\u001b[39;00m\n\u001b[0;32m  10168\u001b[0m     \u001b[38;5;66;03m# We want to restore the original index\u001b[39;00m\n\u001b[0;32m  10169\u001b[0m     rs \u001b[38;5;241m=\u001b[39m rs\u001b[38;5;241m.\u001b[39mloc[\u001b[38;5;241m~\u001b[39mrs\u001b[38;5;241m.\u001b[39mindex\u001b[38;5;241m.\u001b[39mduplicated()]\n",
      "File \u001b[1;32me:\\VSCodeProjects\\careerhigh_quant\\.venv\\lib\\site-packages\\pandas\\core\\ops\\common.py:69\u001b[0m, in \u001b[0;36m_unpack_zerodim_and_defer.<locals>.new_method\u001b[1;34m(self, other)\u001b[0m\n\u001b[0;32m     65\u001b[0m             \u001b[38;5;28;01mreturn\u001b[39;00m \u001b[38;5;28mNotImplemented\u001b[39m\n\u001b[0;32m     67\u001b[0m other \u001b[38;5;241m=\u001b[39m item_from_zerodim(other)\n\u001b[1;32m---> 69\u001b[0m \u001b[38;5;28;01mreturn\u001b[39;00m \u001b[43mmethod\u001b[49m\u001b[43m(\u001b[49m\u001b[38;5;28;43mself\u001b[39;49m\u001b[43m,\u001b[49m\u001b[43m \u001b[49m\u001b[43mother\u001b[49m\u001b[43m)\u001b[49m\n",
      "File \u001b[1;32me:\\VSCodeProjects\\careerhigh_quant\\.venv\\lib\\site-packages\\pandas\\core\\arraylike.py:116\u001b[0m, in \u001b[0;36mOpsMixin.__truediv__\u001b[1;34m(self, other)\u001b[0m\n\u001b[0;32m    114\u001b[0m \u001b[38;5;129m@unpack_zerodim_and_defer\u001b[39m(\u001b[38;5;124m\"\u001b[39m\u001b[38;5;124m__truediv__\u001b[39m\u001b[38;5;124m\"\u001b[39m)\n\u001b[0;32m    115\u001b[0m \u001b[38;5;28;01mdef\u001b[39;00m \u001b[38;5;21m__truediv__\u001b[39m(\u001b[38;5;28mself\u001b[39m, other):\n\u001b[1;32m--> 116\u001b[0m     \u001b[38;5;28;01mreturn\u001b[39;00m \u001b[38;5;28;43mself\u001b[39;49m\u001b[38;5;241;43m.\u001b[39;49m\u001b[43m_arith_method\u001b[49m\u001b[43m(\u001b[49m\u001b[43mother\u001b[49m\u001b[43m,\u001b[49m\u001b[43m \u001b[49m\u001b[43moperator\u001b[49m\u001b[38;5;241;43m.\u001b[39;49m\u001b[43mtruediv\u001b[49m\u001b[43m)\u001b[49m\n",
      "File \u001b[1;32me:\\VSCodeProjects\\careerhigh_quant\\.venv\\lib\\site-packages\\pandas\\core\\frame.py:6866\u001b[0m, in \u001b[0;36mDataFrame._arith_method\u001b[1;34m(self, other, op)\u001b[0m\n\u001b[0;32m   6862\u001b[0m other \u001b[38;5;241m=\u001b[39m ops\u001b[38;5;241m.\u001b[39mmaybe_prepare_scalar_for_op(other, (\u001b[38;5;28mself\u001b[39m\u001b[38;5;241m.\u001b[39mshape[axis],))\n\u001b[0;32m   6864\u001b[0m \u001b[38;5;28mself\u001b[39m, other \u001b[38;5;241m=\u001b[39m ops\u001b[38;5;241m.\u001b[39malign_method_FRAME(\u001b[38;5;28mself\u001b[39m, other, axis, flex\u001b[38;5;241m=\u001b[39m\u001b[38;5;28;01mTrue\u001b[39;00m, level\u001b[38;5;241m=\u001b[39m\u001b[38;5;28;01mNone\u001b[39;00m)\n\u001b[1;32m-> 6866\u001b[0m new_data \u001b[38;5;241m=\u001b[39m \u001b[38;5;28;43mself\u001b[39;49m\u001b[38;5;241;43m.\u001b[39;49m\u001b[43m_dispatch_frame_op\u001b[49m\u001b[43m(\u001b[49m\u001b[43mother\u001b[49m\u001b[43m,\u001b[49m\u001b[43m \u001b[49m\u001b[43mop\u001b[49m\u001b[43m,\u001b[49m\u001b[43m \u001b[49m\u001b[43maxis\u001b[49m\u001b[38;5;241;43m=\u001b[39;49m\u001b[43maxis\u001b[49m\u001b[43m)\u001b[49m\n\u001b[0;32m   6867\u001b[0m \u001b[38;5;28;01mreturn\u001b[39;00m \u001b[38;5;28mself\u001b[39m\u001b[38;5;241m.\u001b[39m_construct_result(new_data)\n",
      "File \u001b[1;32me:\\VSCodeProjects\\careerhigh_quant\\.venv\\lib\\site-packages\\pandas\\core\\frame.py:6905\u001b[0m, in \u001b[0;36mDataFrame._dispatch_frame_op\u001b[1;34m(self, right, func, axis)\u001b[0m\n\u001b[0;32m   6899\u001b[0m     \u001b[38;5;66;03m# TODO: The previous assertion `assert right._indexed_same(self)`\u001b[39;00m\n\u001b[0;32m   6900\u001b[0m     \u001b[38;5;66;03m#  fails in cases with empty columns reached via\u001b[39;00m\n\u001b[0;32m   6901\u001b[0m     \u001b[38;5;66;03m#  _frame_arith_method_with_reindex\u001b[39;00m\n\u001b[0;32m   6902\u001b[0m \n\u001b[0;32m   6903\u001b[0m     \u001b[38;5;66;03m# TODO operate_blockwise expects a manager of the same type\u001b[39;00m\n\u001b[0;32m   6904\u001b[0m     \u001b[38;5;28;01mwith\u001b[39;00m np\u001b[38;5;241m.\u001b[39merrstate(\u001b[38;5;28mall\u001b[39m\u001b[38;5;241m=\u001b[39m\u001b[38;5;124m\"\u001b[39m\u001b[38;5;124mignore\u001b[39m\u001b[38;5;124m\"\u001b[39m):\n\u001b[1;32m-> 6905\u001b[0m         bm \u001b[38;5;241m=\u001b[39m \u001b[38;5;28;43mself\u001b[39;49m\u001b[38;5;241;43m.\u001b[39;49m\u001b[43m_mgr\u001b[49m\u001b[38;5;241;43m.\u001b[39;49m\u001b[43moperate_blockwise\u001b[49m\u001b[43m(\u001b[49m\n\u001b[0;32m   6906\u001b[0m \u001b[43m            \u001b[49m\u001b[38;5;66;43;03m# error: Argument 1 to \"operate_blockwise\" of \"ArrayManager\" has\u001b[39;49;00m\n\u001b[0;32m   6907\u001b[0m \u001b[43m            \u001b[49m\u001b[38;5;66;43;03m# incompatible type \"Union[ArrayManager, BlockManager]\"; expected\u001b[39;49;00m\n\u001b[0;32m   6908\u001b[0m \u001b[43m            \u001b[49m\u001b[38;5;66;43;03m# \"ArrayManager\"\u001b[39;49;00m\n\u001b[0;32m   6909\u001b[0m \u001b[43m            \u001b[49m\u001b[38;5;66;43;03m# error: Argument 1 to \"operate_blockwise\" of \"BlockManager\" has\u001b[39;49;00m\n\u001b[0;32m   6910\u001b[0m \u001b[43m            \u001b[49m\u001b[38;5;66;43;03m# incompatible type \"Union[ArrayManager, BlockManager]\"; expected\u001b[39;49;00m\n\u001b[0;32m   6911\u001b[0m \u001b[43m            \u001b[49m\u001b[38;5;66;43;03m# \"BlockManager\"\u001b[39;49;00m\n\u001b[0;32m   6912\u001b[0m \u001b[43m            \u001b[49m\u001b[43mright\u001b[49m\u001b[38;5;241;43m.\u001b[39;49m\u001b[43m_mgr\u001b[49m\u001b[43m,\u001b[49m\u001b[43m  \u001b[49m\u001b[38;5;66;43;03m# type: ignore[arg-type]\u001b[39;49;00m\n\u001b[0;32m   6913\u001b[0m \u001b[43m            \u001b[49m\u001b[43marray_op\u001b[49m\u001b[43m,\u001b[49m\n\u001b[0;32m   6914\u001b[0m \u001b[43m        \u001b[49m\u001b[43m)\u001b[49m\n\u001b[0;32m   6915\u001b[0m     \u001b[38;5;28;01mreturn\u001b[39;00m \u001b[38;5;28mtype\u001b[39m(\u001b[38;5;28mself\u001b[39m)(bm)\n\u001b[0;32m   6917\u001b[0m \u001b[38;5;28;01melif\u001b[39;00m \u001b[38;5;28misinstance\u001b[39m(right, Series) \u001b[38;5;129;01mand\u001b[39;00m axis \u001b[38;5;241m==\u001b[39m \u001b[38;5;241m1\u001b[39m:\n\u001b[0;32m   6918\u001b[0m     \u001b[38;5;66;03m# axis=1 means we want to operate row-by-row\u001b[39;00m\n",
      "File \u001b[1;32me:\\VSCodeProjects\\careerhigh_quant\\.venv\\lib\\site-packages\\pandas\\core\\internals\\managers.py:1303\u001b[0m, in \u001b[0;36mBlockManager.operate_blockwise\u001b[1;34m(self, other, array_op)\u001b[0m\n\u001b[0;32m   1299\u001b[0m \u001b[38;5;28;01mdef\u001b[39;00m \u001b[38;5;21moperate_blockwise\u001b[39m(\u001b[38;5;28mself\u001b[39m, other: BlockManager, array_op) \u001b[38;5;241m-\u001b[39m\u001b[38;5;241m>\u001b[39m BlockManager:\n\u001b[0;32m   1300\u001b[0m     \u001b[38;5;124;03m\"\"\"\u001b[39;00m\n\u001b[0;32m   1301\u001b[0m \u001b[38;5;124;03m    Apply array_op blockwise with another (aligned) BlockManager.\u001b[39;00m\n\u001b[0;32m   1302\u001b[0m \u001b[38;5;124;03m    \"\"\"\u001b[39;00m\n\u001b[1;32m-> 1303\u001b[0m     \u001b[38;5;28;01mreturn\u001b[39;00m \u001b[43moperate_blockwise\u001b[49m\u001b[43m(\u001b[49m\u001b[38;5;28;43mself\u001b[39;49m\u001b[43m,\u001b[49m\u001b[43m \u001b[49m\u001b[43mother\u001b[49m\u001b[43m,\u001b[49m\u001b[43m \u001b[49m\u001b[43marray_op\u001b[49m\u001b[43m)\u001b[49m\n",
      "File \u001b[1;32me:\\VSCodeProjects\\careerhigh_quant\\.venv\\lib\\site-packages\\pandas\\core\\internals\\ops.py:57\u001b[0m, in \u001b[0;36moperate_blockwise\u001b[1;34m(left, right, array_op)\u001b[0m\n\u001b[0;32m     55\u001b[0m res_blks: \u001b[38;5;28mlist\u001b[39m[Block] \u001b[38;5;241m=\u001b[39m []\n\u001b[0;32m     56\u001b[0m \u001b[38;5;28;01mfor\u001b[39;00m lvals, rvals, locs, left_ea, right_ea, rblk \u001b[38;5;129;01min\u001b[39;00m _iter_block_pairs(left, right):\n\u001b[1;32m---> 57\u001b[0m     res_values \u001b[38;5;241m=\u001b[39m \u001b[43marray_op\u001b[49m\u001b[43m(\u001b[49m\u001b[43mlvals\u001b[49m\u001b[43m,\u001b[49m\u001b[43m \u001b[49m\u001b[43mrvals\u001b[49m\u001b[43m)\u001b[49m\n\u001b[0;32m     58\u001b[0m     \u001b[38;5;28;01mif\u001b[39;00m left_ea \u001b[38;5;129;01mand\u001b[39;00m \u001b[38;5;129;01mnot\u001b[39;00m right_ea \u001b[38;5;129;01mand\u001b[39;00m \u001b[38;5;28mhasattr\u001b[39m(res_values, \u001b[38;5;124m\"\u001b[39m\u001b[38;5;124mreshape\u001b[39m\u001b[38;5;124m\"\u001b[39m):\n\u001b[0;32m     59\u001b[0m         res_values \u001b[38;5;241m=\u001b[39m res_values\u001b[38;5;241m.\u001b[39mreshape(\u001b[38;5;241m1\u001b[39m, \u001b[38;5;241m-\u001b[39m\u001b[38;5;241m1\u001b[39m)\n",
      "File \u001b[1;32me:\\VSCodeProjects\\careerhigh_quant\\.venv\\lib\\site-packages\\pandas\\core\\ops\\array_ops.py:224\u001b[0m, in \u001b[0;36marithmetic_op\u001b[1;34m(left, right, op)\u001b[0m\n\u001b[0;32m    219\u001b[0m \u001b[38;5;28;01melse\u001b[39;00m:\n\u001b[0;32m    220\u001b[0m     \u001b[38;5;66;03m# TODO we should handle EAs consistently and move this check before the if/else\u001b[39;00m\n\u001b[0;32m    221\u001b[0m     \u001b[38;5;66;03m# (https://github.com/pandas-dev/pandas/issues/41165)\u001b[39;00m\n\u001b[0;32m    222\u001b[0m     _bool_arith_check(op, left, right)\n\u001b[1;32m--> 224\u001b[0m     res_values \u001b[38;5;241m=\u001b[39m \u001b[43m_na_arithmetic_op\u001b[49m\u001b[43m(\u001b[49m\u001b[43mleft\u001b[49m\u001b[43m,\u001b[49m\u001b[43m \u001b[49m\u001b[43mright\u001b[49m\u001b[43m,\u001b[49m\u001b[43m \u001b[49m\u001b[43mop\u001b[49m\u001b[43m)\u001b[49m\n\u001b[0;32m    226\u001b[0m \u001b[38;5;28;01mreturn\u001b[39;00m res_values\n",
      "File \u001b[1;32me:\\VSCodeProjects\\careerhigh_quant\\.venv\\lib\\site-packages\\pandas\\core\\ops\\array_ops.py:173\u001b[0m, in \u001b[0;36m_na_arithmetic_op\u001b[1;34m(left, right, op, is_cmp)\u001b[0m\n\u001b[0;32m    167\u001b[0m \u001b[38;5;28;01mexcept\u001b[39;00m \u001b[38;5;167;01mTypeError\u001b[39;00m:\n\u001b[0;32m    168\u001b[0m     \u001b[38;5;28;01mif\u001b[39;00m is_object_dtype(left) \u001b[38;5;129;01mor\u001b[39;00m is_object_dtype(right) \u001b[38;5;129;01mand\u001b[39;00m \u001b[38;5;129;01mnot\u001b[39;00m is_cmp:\n\u001b[0;32m    169\u001b[0m         \u001b[38;5;66;03m# For object dtype, fallback to a masked operation (only operating\u001b[39;00m\n\u001b[0;32m    170\u001b[0m         \u001b[38;5;66;03m#  on the non-missing values)\u001b[39;00m\n\u001b[0;32m    171\u001b[0m         \u001b[38;5;66;03m# Don't do this for comparisons, as that will handle complex numbers\u001b[39;00m\n\u001b[0;32m    172\u001b[0m         \u001b[38;5;66;03m#  incorrectly, see GH#32047\u001b[39;00m\n\u001b[1;32m--> 173\u001b[0m         result \u001b[38;5;241m=\u001b[39m \u001b[43m_masked_arith_op\u001b[49m\u001b[43m(\u001b[49m\u001b[43mleft\u001b[49m\u001b[43m,\u001b[49m\u001b[43m \u001b[49m\u001b[43mright\u001b[49m\u001b[43m,\u001b[49m\u001b[43m \u001b[49m\u001b[43mop\u001b[49m\u001b[43m)\u001b[49m\n\u001b[0;32m    174\u001b[0m     \u001b[38;5;28;01melse\u001b[39;00m:\n\u001b[0;32m    175\u001b[0m         \u001b[38;5;28;01mraise\u001b[39;00m\n",
      "File \u001b[1;32me:\\VSCodeProjects\\careerhigh_quant\\.venv\\lib\\site-packages\\pandas\\core\\ops\\array_ops.py:112\u001b[0m, in \u001b[0;36m_masked_arith_op\u001b[1;34m(x, y, op)\u001b[0m\n\u001b[0;32m    110\u001b[0m     \u001b[38;5;66;03m# See GH#5284, GH#5035, GH#19448 for historical reference\u001b[39;00m\n\u001b[0;32m    111\u001b[0m     \u001b[38;5;28;01mif\u001b[39;00m mask\u001b[38;5;241m.\u001b[39many():\n\u001b[1;32m--> 112\u001b[0m         result[mask] \u001b[38;5;241m=\u001b[39m \u001b[43mop\u001b[49m\u001b[43m(\u001b[49m\u001b[43mxrav\u001b[49m\u001b[43m[\u001b[49m\u001b[43mmask\u001b[49m\u001b[43m]\u001b[49m\u001b[43m,\u001b[49m\u001b[43m \u001b[49m\u001b[43myrav\u001b[49m\u001b[43m[\u001b[49m\u001b[43mmask\u001b[49m\u001b[43m]\u001b[49m\u001b[43m)\u001b[49m\n\u001b[0;32m    114\u001b[0m \u001b[38;5;28;01melse\u001b[39;00m:\n\u001b[0;32m    115\u001b[0m     \u001b[38;5;28;01mif\u001b[39;00m \u001b[38;5;129;01mnot\u001b[39;00m is_scalar(y):\n",
      "\u001b[1;31mTypeError\u001b[0m: unsupported operand type(s) for /: 'str' and 'str'"
     ]
    }
   ],
   "source": [
    "# selected_df = equity_df\n",
    "\n",
    "equity_CAM = CrossAssetMomentum(\n",
    "    prices=equity_df,\n",
    "    lookback_period=lookback_period,\n",
    "    holding_period=holding_period,\n",
    "    n_selection=n_selection,\n",
    ")"
   ]
  },
  {
   "cell_type": "code",
   "execution_count": null,
   "metadata": {},
   "outputs": [],
   "source": []
  }
 ],
 "metadata": {
  "interpreter": {
   "hash": "9e694e6d41be91b715d74a2109d20b4acb5eb28ac98f176b86f69bc39c7192c7"
  },
  "kernelspec": {
   "display_name": "Python 3.8.6 64-bit ('.venv': poetry)",
   "language": "python",
   "name": "python3"
  },
  "language_info": {
   "codemirror_mode": {
    "name": "ipython",
    "version": 3
   },
   "file_extension": ".py",
   "mimetype": "text/x-python",
   "name": "python",
   "nbconvert_exporter": "python",
   "pygments_lexer": "ipython3",
   "version": "3.8.6"
  },
  "orig_nbformat": 4
 },
 "nbformat": 4,
 "nbformat_minor": 2
}
